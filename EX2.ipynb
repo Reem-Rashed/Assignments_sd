{
 "cells": [
  {
   "cell_type": "code",
   "execution_count": 1,
   "id": "328ef7bf",
   "metadata": {},
   "outputs": [
    {
     "name": "stdout",
     "output_type": "stream",
     "text": [
      "Initial stock price:  63.48\n",
      "Rate of return: -46.43982356647763 %\n",
      "False\n"
     ]
    }
   ],
   "source": [
    "Vi= 63.48 # Initial stock price\n",
    "print(\"Initial stock price: \", Vi)\n",
    "Vf=float(input(\"the expected future stock price: \"))\n",
    "RR=((Vf-Vi)/Vi)*100 # Rate of return\n",
    "print(f\"Rate of return: { RR} %\")\n",
    "if RR>0:\n",
    "    print(\"True\")\n",
    "else:\n",
    "    print(\"False\")\n",
    "    \"\"\"The code calculates the rate of return based on the initial and expected \n",
    "    future stock prices for company FANTASTIC CHIP's\"\"\""
   ]
  }
 ],
 "metadata": {
  "kernelspec": {
   "display_name": "Python 3",
   "language": "python",
   "name": "python3"
  },
  "language_info": {
   "codemirror_mode": {
    "name": "ipython",
    "version": 3
   },
   "file_extension": ".py",
   "mimetype": "text/x-python",
   "name": "python",
   "nbconvert_exporter": "python",
   "pygments_lexer": "ipython3",
   "version": "3.13.5"
  }
 },
 "nbformat": 4,
 "nbformat_minor": 5
}
