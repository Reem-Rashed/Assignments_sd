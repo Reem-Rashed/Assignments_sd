{
 "cells": [
  {
   "cell_type": "code",
   "execution_count": null,
   "id": "ace55024",
   "metadata": {},
   "outputs": [
    {
     "name": "stdout",
     "output_type": "stream",
     "text": [
      " Hello Reem\n",
      " Happy birthday!  😊 You're 21 years old now \n",
      " Do you need to find a nice restaurant in Amman to celebrate?\n"
     ]
    }
   ],
   "source": [
    "\"\"\" The program asks the user name and  age now  and city name to celebrate their birthday\n",
    "then prints a message with the information the user\"\"\"\n",
    "user_name=input(\"Enter your name: \").capitalize() \n",
    "age=int(input(\"Enter your age: \"))\n",
    "city_name=input(\"Enter your city: \").capitalize()\n",
    "print(f\"\"\" Hello {user_name}\\n Happy birthday!   You're {age} years old now \n",
    " Do you need to find a nice restaurant in {city_name} to celebrate?\"\"\")\n",
    "\n"
   ]
  }
 ],
 "metadata": {
  "kernelspec": {
   "display_name": "Python 3",
   "language": "python",
   "name": "python3"
  },
  "language_info": {
   "codemirror_mode": {
    "name": "ipython",
    "version": 3
   },
   "file_extension": ".py",
   "mimetype": "text/x-python",
   "name": "python",
   "nbconvert_exporter": "python",
   "pygments_lexer": "ipython3",
   "version": "3.13.5"
  }
 },
 "nbformat": 4,
 "nbformat_minor": 5
}
