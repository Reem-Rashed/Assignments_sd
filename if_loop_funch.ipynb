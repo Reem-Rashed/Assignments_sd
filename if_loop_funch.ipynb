{
 "cells": [
  {
   "cell_type": "code",
   "execution_count": 13,
   "id": "02de26db",
   "metadata": {},
   "outputs": [
    {
     "name": "stdout",
     "output_type": "stream",
     "text": [
      "The sum of 45 + 70 is = 115.0\n"
     ]
    }
   ],
   "source": [
    "# this program takes two numbers from the user and returns their sum.\n",
    "user_number1 = input(\"Please enter a number: \")  # input from the user\n",
    "\n",
    "user_number2 = input(\"Please enter another number: \")  # input from the user\n",
    "\n",
    "sum_result = float(user_number1) + float(\n",
    "    user_number2\n",
    ")  # calculating the sum of the two numbers\n",
    "\n",
    "print(\n",
    "    f\"The sum of {user_number1} + {user_number2} is = {sum_result}\"\n",
    ")  # printing the result"
   ]
  },
  {
   "cell_type": "code",
   "execution_count": null,
   "id": "96c53920",
   "metadata": {},
   "outputs": [],
   "source": [
    "# this program takes a number from the user and prints it in reverse order.\n",
    "user_number = int(input(\"Please enter a number: \"))  # input from the user\n",
    "for i in range(user_number, -1, -1):  # counting down from the user number to 0\n",
    "    print(f\"  {i}\")  # printing the countdown"
   ]
  },
  {
   "cell_type": "code",
   "execution_count": 14,
   "id": "5926fb74",
   "metadata": {},
   "outputs": [
    {
     "name": "stdout",
     "output_type": "stream",
     "text": [
      "doubling the number : 3136\n"
     ]
    }
   ],
   "source": [
    "# this program takes a number from the user and doubles it until it exceeds 1000.\n",
    "\n",
    "user_number = int(input(\"Please enter a number:\"))  # input from the user\n",
    "\n",
    "while user_number <= 1000:  \n",
    "    # checking if the number is less than or equal to 1000\n",
    "    user_number **= 2  # doubling the number\n",
    "    \n",
    "    print(f\"doubling the number : {user_number}\")  # printing the doubled number"
   ]
  },
  {
   "cell_type": "code",
   "execution_count": null,
   "id": "ae19561c",
   "metadata": {},
   "outputs": [],
   "source": [
    "# this program takes a number from the user and returns its factorial.\n",
    "user_number = int(input(\"Please enter a number :\"))  # input from the user\n",
    "\n",
    "\n",
    "def double_number(number):  # function to double the number\n",
    "    return user_number**2  # doubling the number\n",
    "\n",
    "\n",
    "print(\n",
    "    f\"doubling the number : {double_number(user_number)}\"\n",
    ")  # printing the doubled number"
   ]
  },
  {
   "cell_type": "code",
   "execution_count": null,
   "id": "63ca3e66",
   "metadata": {},
   "outputs": [],
   "source": [
    "# this program takes a number from the user and checks if it is positive, negative\n",
    "user_number=int( input(\"Please enter a number to : \"))\n",
    "if user_number>10:\n",
    "    print(f\"The number {user_number} is Big number\")# checking if the number is greater than 10\n",
    "if user_number<=10:\n",
    "    print(f\"The number {user_number} is Small number\")# checking if the number is less than or equal to 10"
   ]
  },
  {
   "cell_type": "code",
   "execution_count": null,
   "id": "a0d4902e",
   "metadata": {},
   "outputs": [],
   "source": [
    "# this program tiknes two numbers from the user and returns their multiplication.\n",
    "input_number1 = int(input(\"Please enter a number: \"))  # input from the user\n",
    "input_number2 = int(input(\"Please enter another number: \"))  # input from the user\n",
    "\n",
    "\n",
    "def multiplication_table(\n",
    "    input_number1, input_number2\n",
    "):  # function to multiply the two numbers\n",
    "    \"\"\"Returns the multiplication of two numbers.\"\"\"\n",
    "    return input_number1 * input_number2\n",
    "\n",
    "\n",
    "print(\n",
    "    f\"\"\"The multiplication of {input_number1} and {input_number2} is: \n",
    "      {multiplication_table(input_number1, input_number2)}\"\"\"\n",
    ")  # printing the result of the multiplication"
   ]
  },
  {
   "cell_type": "code",
   "execution_count": null,
   "id": "2208f26f",
   "metadata": {},
   "outputs": [
    {
     "name": "stdout",
     "output_type": "stream",
     "text": [
      " result 40\n",
      " result 35\n",
      " result 30\n",
      " result 25\n",
      " result 20\n",
      " result 15\n",
      " result 10\n",
      " result 5\n",
      " result 0\n",
      " result -5\n"
     ]
    }
   ],
   "source": [
    "\"\"\" \"program that uses a while loop to take a number as input from the user, subtract 5,\n",
    "and print the result. Continue this until the result is less than 0.\"\"\"\n",
    "\n",
    "user_number = int(input(\"Please enter a number : \"))\n",
    "while user_number >= 0:\n",
    "    user_number -= 5\n",
    "    print(f\" result {user_number}\")"
   ]
  },
  {
   "cell_type": "code",
   "execution_count": null,
   "id": "77309908",
   "metadata": {},
   "outputs": [
    {
     "name": "stdout",
     "output_type": "stream",
     "text": [
      "The factorial of 12 is: 479001600\n"
     ]
    }
   ],
   "source": [
    "\"\"\"program that uses a for loop to take an integer input from the user\n",
    "and print the factorial of that number.\"\"\"\n",
    "\n",
    "input_number = int(input(\"Please enter a number: \"))\n",
    "factorial = 1\n",
    "for i in range(1, input_number + 1):\n",
    "    factorial *= i\n",
    "# print(f\"The factorial of {input_number} is: {factorial}\") (printing inside the loop)\n",
    "print(\n",
    "    f\"The factorial of {input_number} is: {factorial}\"\n",
    ")  # printing the result outside the loop"
   ]
  },
  {
   "cell_type": "code",
   "execution_count": null,
   "id": "0abedff7",
   "metadata": {},
   "outputs": [
    {
     "name": "stdout",
     "output_type": "stream",
     "text": [
      "The number -12 is negative\n"
     ]
    }
   ],
   "source": [
    "\"\"\"program that takes a number as input from the user.\n",
    "If the number is positive, print \"Positive\".\n",
    "If the number is negative, print \"Negative\".\n",
    "  If the number is zero, print \"Zero\".\"\"\"\n",
    "\n",
    "input_number = int(input(\"Please enter a number: \"))\n",
    "if input_number > 0:\n",
    "    print(f\"The number {input_number} is positive\")\n",
    "if input_number < 0:\n",
    "    print(f\"The number {input_number} is negative\")\n",
    "if input_number == 0:\n",
    "    print(f\"The number {input_number} is zero\")"
   ]
  },
  {
   "cell_type": "code",
   "execution_count": null,
   "id": "92a31e2c",
   "metadata": {},
   "outputs": [
    {
     "name": "stdout",
     "output_type": "stream",
     "text": [
      "The division of 67 by 8 is: 8.375\n"
     ]
    }
   ],
   "source": [
    "# lambda function taking two numbers and returning their division.\n",
    "input_number1 = int(input(\"Please enter a number: \"))  # input from the user\n",
    "input_number2 = int(input(\"Please enter another number: \"))  # input from the user\n",
    "division = lambda x, y: x / y if y != 0 else \"Cannot divide by zero\"\n",
    "print(\n",
    "    f\"The division of {input_number1} by {input_number2} is: {division(input_number1, input_number2)}\"\n",
    ")"
   ]
  }
 ],
 "metadata": {
  "kernelspec": {
   "display_name": "Python 3",
   "language": "python",
   "name": "python3"
  },
  "language_info": {
   "codemirror_mode": {
    "name": "ipython",
    "version": 3
   },
   "file_extension": ".py",
   "mimetype": "text/x-python",
   "name": "python",
   "nbconvert_exporter": "python",
   "pygments_lexer": "ipython3",
   "version": "3.13.5"
  }
 },
 "nbformat": 4,
 "nbformat_minor": 5
}
