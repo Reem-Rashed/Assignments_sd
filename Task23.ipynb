{
 "cells": [
  {
   "cell_type": "code",
   "execution_count": null,
   "id": "f8366771",
   "metadata": {},
   "outputs": [],
   "source": [
    "'''this program use slicing to remove the '$' from the string and convert it to an integer\n",
    "and then add 100 to the price and print it with $'''\n",
    "named_prise='123$' #named price with $ \n",
    "\n",
    "new_named_prise = int(named_prise[:-1]) \n",
    "# Convert string to int by removing the '$'by slicing\n",
    "\n",
    "print( f'{new_named_prise+100}$')# add 100 to the price and print it with $\n",
    "\n"
   ]
  }
 ],
 "metadata": {
  "kernelspec": {
   "display_name": "Python 3",
   "language": "python",
   "name": "python3"
  },
  "language_info": {
   "name": "python",
   "version": "3.13.5"
  }
 },
 "nbformat": 4,
 "nbformat_minor": 5
}
