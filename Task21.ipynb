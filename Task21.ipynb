{
 "cells": [
  {
   "cell_type": "code",
   "execution_count": null,
   "id": "b79b78f0",
   "metadata": {},
   "outputs": [],
   "source": [
    "#The program asks the user for their name and favorite food .\n",
    "name=input(\"Enter your name: \").capitalize() #name user input.\n",
    "\n",
    "favorite_food=input(\"Enter your favorite food: \").capitalize() \n",
    "#favorite food user input.\n",
    "#capitalize() method capitalizes the first letter of the string.\n",
    "\n",
    "print(f\"Hello your name :{name}, your favorite food is {favorite_food}.\")\n",
    "#printing the output using f-string formatting name and favorite food."
   ]
  }
 ],
 "metadata": {
  "kernelspec": {
   "display_name": "Python 3",
   "language": "python",
   "name": "python3"
  },
  "language_info": {
   "name": "python",
   "version": "3.13.5"
  }
 },
 "nbformat": 4,
 "nbformat_minor": 5
}
