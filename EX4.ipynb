{
 "cells": [
  {
   "cell_type": "code",
   "execution_count": null,
   "id": "c6c38bd6",
   "metadata": {},
   "outputs": [
    {
     "name": "stdout",
     "output_type": "stream",
     "text": [
      "Hello! Welcome to our volunteer program , We are excited to have you on board.\n",
      "Create a new account to get started.\n",
      "\n",
      "Volunteer Profile\n",
      "Name: reem\n",
      "Email: reem@gmail.com\n",
      "Phone Number: 798\n",
      "Age: 21 \n",
      "       \n",
      "Academic Background: study\n",
      "Thank you for your availability on weekdays!\n",
      "Thank you for your availability at any time!\n",
      "Emergency Contact : 911 \n",
      "Organization Phone for help: 123-456-7890\n",
      "\n",
      "Thank you for sharing your details! We're excited to have you on board.\n"
     ]
    }
   ],
   "source": [
    "# Welcome message for the volunteer program\n",
    "print(\"Hello! Welcome to our volunteer program, we are excited to have you on board.\")\n",
    "print(\"Create a new account to get started.\")\n",
    "\n",
    "# Collecting user information\n",
    "print(\" Volunteer Registration \")\n",
    "name = input(\"Enter your name: \")\n",
    "email = input(\"Enter your email: \")\n",
    "number = int(input(\"Enter your phone number: \"))\n",
    "age = int(input(\"Enter your age: \"))\n",
    "academic_background = input(\"Enter your academic background (high school, college, university): \")\n",
    "\n",
    "# Displaying the profile\n",
    "print(\"\\n Volunteer Profile :\")\n",
    "print(f\"\"\"\n",
    "Name: {name}\n",
    "Email: {email}\n",
    "Phone Number: {number}\n",
    "Age: {age}\n",
    "Academic Background: {academic_background}\n",
    "\"\"\")\n",
    "#f-string string literals for formatting.\n",
    "\n",
    "# Constants for emergency contacts\n",
    "EMERGENCY_CONTACT = \"911\"\n",
    "ORGANIZATION_PHONE = \"123-456-7890\"\n",
    "\n",
    "# Checking availability time\n",
    "Any_time_Availability = input(\"Are you available at any time? (weekends, weekdays, or both): \")\n",
    "\n",
    "if Any_time_Availability.lower() == \"weekends\":\n",
    "    print(\"Thank you for your availability on weekends!\")\n",
    "if Any_time_Availability.lower() == \"weekdays\":\n",
    "    print(\"Thank you for your availability on weekdays!\")\n",
    "if Any_time_Availability.lower() == \"both\":\n",
    "    print(\"Thank you for your availability at any time!\")\n",
    "\n",
    "# Displaying contact information\n",
    "print(\"\\n Important Contacts:\")\n",
    "print(f\"Emergency Contact : {EMERGENCY_CONTACT}\")\n",
    "print(f\"Organization Phone for help: {ORGANIZATION_PHONE}\")\n",
    "\n",
    "# Farewell message\n",
    "print(\"\\nThank you for sharing your details! We're thrilled to have you on board.\")"
   ]
  }
 ],
 "metadata": {
  "kernelspec": {
   "display_name": "Python 3",
   "language": "python",
   "name": "python3"
  },
  "language_info": {
   "codemirror_mode": {
    "name": "ipython",
    "version": 3
   },
   "file_extension": ".py",
   "mimetype": "text/x-python",
   "name": "python",
   "nbconvert_exporter": "python",
   "pygments_lexer": "ipython3",
   "version": "3.13.5"
  }
 },
 "nbformat": 4,
 "nbformat_minor": 5
}
