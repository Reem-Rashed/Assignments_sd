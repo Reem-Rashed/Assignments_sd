{
 "cells": [
  {
   "cell_type": "code",
   "execution_count": null,
   "id": "21e5d382",
   "metadata": {},
   "outputs": [],
   "source": [
    "# The program checks if the number is positive, negative, or zero and prints the result.\n",
    "user_number = float(input(\"Enter a number: \"))\n",
    "# Check if the number is positive, negative, or zero\n",
    "\n",
    "if user_number <0: #check if the number is negative\n",
    "    print(\" number is negative\")\n",
    "\n",
    "elif user_number ==0: #check if the number is zero\n",
    "    print(\"exactly zero\")\n",
    "\n",
    "else: #check if the number is positive\n",
    "    print(\"number is positive\")    \n",
    "# End of the program\n"
   ]
  }
 ],
 "metadata": {
  "kernelspec": {
   "display_name": "Python 3",
   "language": "python",
   "name": "python3"
  },
  "language_info": {
   "name": "python",
   "version": "3.13.5"
  }
 },
 "nbformat": 4,
 "nbformat_minor": 5
}
