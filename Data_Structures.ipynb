{
 "cells": [
  {
   "cell_type": "code",
   "execution_count": null,
   "id": "14c21bd8",
   "metadata": {},
   "outputs": [],
   "source": [
    "# this script counts the number of vowels in a given sentence\n",
    "def count_vowels(sentence): # Function to count vowels in a sentence\n",
    "    vowels = \"aeiouAEIOU\"\n",
    "    vowel_count = 0\n",
    "    for lettar in sentence:\n",
    "        if lettar in vowels:\n",
    "            vowel_count += 1\n",
    "    return vowel_count\n",
    "\n",
    "\n",
    "sentence = input(\"Enter a sentence: \") # Input sentence from the user\n",
    "print(f\"Sentence:{sentence}\") # Print the input sentence\n",
    "print(f\"Number of vowels: {count_vowels(sentence)}\") # Print the number of vowels in the sentence"
   ]
  },
  {
   "cell_type": "code",
   "execution_count": null,
   "id": "fd4b5c82",
   "metadata": {},
   "outputs": [],
   "source": [
    "# this script lists even numbers from a given list of numbers\n",
    "# and also lists unique even numbers from the set of numbers\n",
    "def list_even_numbers(list_numbers):\n",
    "    return [i for i in list_numbers if i % 2 == 0] \n",
    "    # Function to filter even numbers from a list\n",
    "\n",
    "user_input = input(\"Enter numbers separated by commas: \")\n",
    "list_numbers = list(map(int, user_input.split(',')))\n",
    "print(\"Even numbers:\", list_even_numbers(list_numbers))\n",
    "\n",
    "\n",
    "set_numbers = set(list_numbers)  # Convert to set to remove duplicates\n",
    "print(\"Unique even numbers:\", list_even_numbers(set_numbers))"
   ]
  },
  {
   "cell_type": "code",
   "execution_count": null,
   "id": "bc238302",
   "metadata": {},
   "outputs": [
    {
     "name": "stdout",
     "output_type": "stream",
     "text": [
      "Intersection of set1 and set2: {'Hala', 'Dana', 'Rama', 'Reem', 'Rana'}\n",
      "Union of set1 and set2: {'Hala', 'Rama', 'Dana', 'Reem', 'Rana', 'Lama'}\n"
     ]
    }
   ],
   "source": [
    "# this script finds the intersection and union of two sets\n",
    "# and prints the results\n",
    "\n",
    "\n",
    "# First set of names\n",
    "set1={\"Reem\",\"Dana\",\"Hala\",\"Rana\",\"Rama\"}\n",
    " \n",
    "\n",
    "# Second set of names\n",
    "set2={\"Reem\",\"Dana\",\"Hala\",\"Rana\",\"Rama\",\"Lama\"}\n",
    "\n",
    "# Function to find the intersection of two sets \n",
    "def intersection(set1, set2):\n",
    "    return set1.intersection(set2)\n",
    "print(\"Intersection of set1 and set2:\", intersection(set1, set2))    \n",
    "\n",
    "# Function to find the union of two sets\n",
    "set3=set1.union(set2) \n",
    "print(\"Union of set1 and set2:\", set3)"
   ]
  },
  {
   "cell_type": "code",
   "execution_count": null,
   "id": "caa3d9b3",
   "metadata": {},
   "outputs": [
    {
     "name": "stdout",
     "output_type": "stream",
     "text": [
      "Sorted tuple: [1, 1, 3, 4, 5, 9]\n",
      "Reversed tuple: (9, 5, 1, 4, 1, 3)\n"
     ]
    }
   ],
   "source": [
    "# this script sorts and reverses a tuple\n",
    "def sort_tuple(tup):\n",
    "    return sorted(tup)\n",
    "\n",
    "\n",
    "print(\"Sorted tuple:\", sort_tuple((3, 1, 4, 1, 5, 9)))\n",
    "\n",
    "\n",
    "def reverse_tuple(tup):\n",
    "    return tup[::-1]\n",
    "\n",
    "\n",
    "print(\"Reversed tuple:\", reverse_tuple((3, 1, 4, 1, 5, 9)))"
   ]
  },
  {
   "cell_type": "code",
   "execution_count": null,
   "id": "c7c2a900",
   "metadata": {},
   "outputs": [
    {
     "name": "stdout",
     "output_type": "stream",
     "text": [
      "Dictionary: {'reema': '1', 'dana': '2', 'hala': '3', 'rana': '4', 'rama': '5'}\n",
      "reema found in the dictionary with value: 1\n"
     ]
    }
   ],
   "source": [
    "# this script creates a dictionary from two lists of keys and values\n",
    "# and allows searching for a name in the dictionary\n",
    "def dict_list(keys, values):  # Function to create a dictionary from two lists\n",
    "    return dict(zip(keys, values)) #zip combines the two lists into a dictionary\n",
    "\n",
    "\n",
    "keys = (\"reema\", \"dana\", \"hala\", \"rana\", \"rama\")\n",
    "values = (\"1\", \"2\", \"3\", \"4\", \"5\")\n",
    "print(\"Dictionary:\", dict_list(keys, values)) \n",
    "\n",
    "# Function to reverse a dictionary\n",
    "dictionary = dict_list(keys, values)\n",
    "name_to_search = input(\"Enter a name to search in the dictionary: \")\n",
    "if name_to_search in dictionary:  # Check if the name exists in the dictionary\n",
    "    print(\n",
    "        f\"{name_to_search} found in the dictionary with value: {dictionary[name_to_search]}\"\n",
    "    )\n",
    "else:\n",
    "    print(f\"{name_to_search} not found in the dictionary.\")"
   ]
  }
 ],
 "metadata": {
  "kernelspec": {
   "display_name": "Python 3",
   "language": "python",
   "name": "python3"
  },
  "language_info": {
   "codemirror_mode": {
    "name": "ipython",
    "version": 3
   },
   "file_extension": ".py",
   "mimetype": "text/x-python",
   "name": "python",
   "nbconvert_exporter": "python",
   "pygments_lexer": "ipython3",
   "version": "3.13.5"
  }
 },
 "nbformat": 4,
 "nbformat_minor": 5
}
