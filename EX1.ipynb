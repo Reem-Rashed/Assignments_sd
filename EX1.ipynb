{
 "cells": [
  {
   "cell_type": "code",
   "execution_count": null,
   "id": "f9676c79",
   "metadata": {},
   "outputs": [
    {
     "name": "stdout",
     "output_type": "stream",
     "text": [
      "Total Revenue =76.7 JOD \n",
      " Total Expenses =89.6 JOD \n",
      " Total Profit = -12.899999999999991 JOD\n"
     ]
    }
   ],
   "source": [
    "# I used flot because it accepts any type of number\n",
    "Total_Revenue=float( input(\"Enter your Total Revenue:\"))\n",
    "Total_Expenses=float(input(\"Enter your Total Expenses:\"))\n",
    "Total_Profit=Total_Revenue-Total_Expenses \n",
    "print(f\"Total Revenue ={Total_Revenue} JOD \\n Total Expenses ={Total_Expenses} JOD \\n Total Profit = {Total_Profit} JOD\")\n",
    "# The program calculates the total profit\n"
   ]
  },
  {
   "cell_type": "code",
   "execution_count": null,
   "id": "884cb018",
   "metadata": {},
   "outputs": [
    {
     "name": "stdout",
     "output_type": "stream",
     "text": [
      "Total Revenue = 54.0 JOD \n",
      " Total Expenses = 56.0 JOD \n",
      " Total Profit = -2.0 JOD\n"
     ]
    }
   ],
   "source": [
    "Total_Revenue=float( input(\"Enter your Total Revenue :\"))\n",
    "Total_Expenses=float(input(\"Enter your Total Expenses:\"))\n",
    "print(f\"Total Revenue = {Total_Revenue} JOD \\n Total Expenses = {Total_Expenses} JOD \\n Total Profit = {Total_Revenue-Total_Expenses} JOD\" )\n",
    "# The program calculates the total profit"
   ]
  }
 ],
 "metadata": {
  "kernelspec": {
   "display_name": "Python 3",
   "language": "python",
   "name": "python3"
  },
  "language_info": {
   "codemirror_mode": {
    "name": "ipython",
    "version": 3
   },
   "file_extension": ".py",
   "mimetype": "text/x-python",
   "name": "python",
   "nbconvert_exporter": "python",
   "pygments_lexer": "ipython3",
   "version": "3.13.5"
  }
 },
 "nbformat": 4,
 "nbformat_minor": 5
}
